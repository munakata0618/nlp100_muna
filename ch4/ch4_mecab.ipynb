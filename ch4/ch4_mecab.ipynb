{
 "cells": [
  {
   "cell_type": "markdown",
   "metadata": {},
   "source": [
    "夏目漱石の小説『吾輩は猫である』の文章（neko.txt）をMeCabを使って形態素解析し，その結果をneko.txt.mecabというファイルに保存せよ．このファイルを用いて，以下の問に対応するプログラムを実装せよ．\n",
    "\n",
    "なお，問題37, 38, 39はmatplotlibもしくはGnuplotを用いるとよい．"
   ]
  },
  {
   "cell_type": "markdown",
   "metadata": {},
   "source": [
    "### 30. 形態素解析結果の読み込み\n",
    "形態素解析結果（neko.txt.mecab）を読み込むプログラムを実装せよ．ただし，各形態素は表層形（surface），基本形（base），品詞（pos），品詞細分類1（pos1）をキーとするマッピング型に格納し，1文を形態素（マッピング型）のリストとして表現せよ．第4章の残りの問題では，ここで作ったプログラムを活用せよ．"
   ]
  },
  {
   "cell_type": "code",
   "execution_count": 4,
   "metadata": {},
   "outputs": [
    {
     "name": "stdout",
     "output_type": "stream",
     "text": [
      "202593\n"
     ]
    }
   ],
   "source": [
    "neko_mecab = \"neko.txt.mecab\"\n",
    "\n",
    "morpheme_list = []\n",
    "with open(neko_mecab, \"r\") as r:\n",
    "    for word_data in r:\n",
    "        dic_word = {}\n",
    "        if word_data == \"EOS\\n\":\n",
    "            continue\n",
    "        origin, status = word_data.split(\"\\t\")\n",
    "        status = status.split(\",\")\n",
    "        dic_word[\"surface\"] = origin\n",
    "        dic_word[\"base\"] = status[6]\n",
    "        dic_word[\"pos\"] = status[0]\n",
    "        dic_word[\"pos1\"] = status[1]\n",
    "        morpheme_list.append(dic_word)\n",
    "print(len(morpheme_list))"
   ]
  },
  {
   "cell_type": "markdown",
   "metadata": {},
   "source": [
    "### 31. 動詞\n",
    "動詞の表層形をすべて抽出せよ．"
   ]
  },
  {
   "cell_type": "code",
   "execution_count": 2,
   "metadata": {},
   "outputs": [
    {
     "name": "stdout",
     "output_type": "stream",
     "text": [
      "28120\n"
     ]
    }
   ],
   "source": [
    "verb_surface_list = []\n",
    "\n",
    "for morpheme in morpheme_list:\n",
    "    if morpheme[\"pos\"] == \"動詞\":\n",
    "        verb_surface_list.append(morpheme[\"surface\"])\n",
    "print(len(verb_surface_list))"
   ]
  },
  {
   "cell_type": "markdown",
   "metadata": {},
   "source": [
    "### 32. 動詞の原形\n",
    "動詞の原形をすべて抽出せよ．"
   ]
  },
  {
   "cell_type": "code",
   "execution_count": 3,
   "metadata": {},
   "outputs": [
    {
     "name": "stdout",
     "output_type": "stream",
     "text": [
      "28120\n"
     ]
    }
   ],
   "source": [
    "verb_base_list = []\n",
    "\n",
    "for morpheme in morpheme_list:\n",
    "    if morpheme[\"pos\"] == \"動詞\":\n",
    "        verb_base_list.append(morpheme[\"base\"])\n",
    "print(len(verb_base_list))"
   ]
  },
  {
   "cell_type": "markdown",
   "metadata": {},
   "source": [
    "### 33. サ変名詞\n",
    "サ変接続の名詞をすべて抽出せよ．"
   ]
  },
  {
   "cell_type": "code",
   "execution_count": 4,
   "metadata": {},
   "outputs": [
    {
     "name": "stdout",
     "output_type": "stream",
     "text": [
      "4846\n"
     ]
    }
   ],
   "source": [
    "sahen_list = []\n",
    "\n",
    "for morpheme in morpheme_list:\n",
    "    if morpheme[\"pos\"] == \"名詞\":\n",
    "        if morpheme[\"pos1\"] == \"サ変接続\":\n",
    "            sahen_list.append(morpheme[\"surface\"])\n",
    "print(len(sahen_list))"
   ]
  },
  {
   "cell_type": "markdown",
   "metadata": {},
   "source": [
    "### 34. 「AのB」\n",
    "2つの名詞が「の」で連結されている名詞句を抽出せよ．"
   ]
  },
  {
   "cell_type": "code",
   "execution_count": 5,
   "metadata": {},
   "outputs": [
    {
     "name": "stdout",
     "output_type": "stream",
     "text": [
      "4962\n",
      "['彼の掌', '掌の上', '書生の顔', 'はずの顔', '顔の真中', '穴の中', '書生の掌', '何の事', '肝心の母親', '藁の上', '笹原の中', 'ようやくの思い', '池の前', 'ようやくの事', '一樹の蔭', '垣根の穴', '隣家の三毛', '時の通路', '一刻の猶予', '家の内']\n"
     ]
    }
   ],
   "source": [
    "noun_phrase_list = []\n",
    "first = True\n",
    "second = False\n",
    "third = False\n",
    "noun_phrase = \"\"\n",
    "\n",
    "for morpheme in morpheme_list:\n",
    "    if morpheme[\"pos\"] == \"名詞\" and first:\n",
    "        noun_phrase += morpheme[\"surface\"]\n",
    "        first = False\n",
    "        second = True\n",
    "        continue\n",
    "    elif first:\n",
    "        noun_phrase = \"\"\n",
    "        continue\n",
    "        \n",
    "    if morpheme[\"surface\"] == \"の\" and second:\n",
    "        noun_phrase += morpheme[\"surface\"]\n",
    "        second = False\n",
    "        third = True\n",
    "        continue\n",
    "    elif second:\n",
    "        noun_phrase = \"\"\n",
    "        first = True\n",
    "        second = False\n",
    "        continue\n",
    "    \n",
    "    if morpheme[\"pos\"] == \"名詞\" and third:\n",
    "        noun_phrase += morpheme[\"surface\"]\n",
    "        noun_phrase_list.append(noun_phrase)\n",
    "        first = True\n",
    "        third = False\n",
    "        continue\n",
    "    elif third:\n",
    "        noun_phrase = \"\"\n",
    "        first = True\n",
    "        third = False\n",
    "        continue\n",
    "print(len(noun_phrase_list))\n",
    "print(noun_phrase_list[:20])"
   ]
  },
  {
   "cell_type": "markdown",
   "metadata": {},
   "source": [
    "### 35. 名詞の連接\n",
    "名詞の連接（連続して出現する名詞）を最長一致で抽出せよ．"
   ]
  },
  {
   "cell_type": "code",
   "execution_count": 8,
   "metadata": {},
   "outputs": [
    {
     "name": "stdout",
     "output_type": "stream",
     "text": [
      "49056\n",
      "['一', '吾輩は猫である', '名前', 'どこ', 'かとん', '見当', '何', 'した所', 'いた事', '記憶', '吾輩', 'ここ', '人間', 'もの', 'あと', 'それ', '書生', '人間中', '一番獰悪', '種族']\n"
     ]
    }
   ],
   "source": [
    "noun_seq_list = []\n",
    "noun_seq = \"\"\n",
    "head = True\n",
    "body = False\n",
    "\n",
    "for morpheme in morpheme_list:\n",
    "    if morpheme[\"pos\"] == \"名詞\" and head:\n",
    "        noun_seq += morpheme[\"surface\"]\n",
    "        head = False\n",
    "        body = True\n",
    "        continue\n",
    "    \n",
    "    if morpheme[\"pos\"] == \"名詞\" and body:\n",
    "        noun_seq += morpheme[\"surface\"]\n",
    "        continue\n",
    "    elif body:\n",
    "        noun_seq_list.append(noun_seq)\n",
    "        noun_seq = \"\"\n",
    "        head = True\n",
    "        body = False\n",
    "        continue\n",
    "\n",
    "print(len(noun_seq_list))\n",
    "print(noun_seq_list[:20])"
   ]
  },
  {
   "cell_type": "markdown",
   "metadata": {},
   "source": [
    "### 36. 単語の出現頻度\n",
    "文章中に出現する単語とその出現頻度を求め，出現頻度の高い順に並べよ．\n",
    "\n"
   ]
  },
  {
   "cell_type": "code",
   "execution_count": 9,
   "metadata": {},
   "outputs": [
    {
     "name": "stdout",
     "output_type": "stream",
     "text": [
      "[('の', 9109), ('。', 7484), ('、', 6772), ('て', 6697), ('は', 6384), ('に', 6147), ('を', 6068), ('と', 5476), ('が', 5259), ('た', 3916)]\n"
     ]
    }
   ],
   "source": [
    "word_freq = {}\n",
    "\n",
    "for morpheme in morpheme_list:\n",
    "    if morpheme[\"surface\"] in word_freq.keys():\n",
    "        word_freq[morpheme[\"surface\"]] += 1\n",
    "    else:\n",
    "        word_freq[morpheme[\"surface\"]] = 1\n",
    "\"\"\"\n",
    "sum_appear = sum(word_freq.values())\n",
    "\n",
    "for key_word in word_freq.keys():\n",
    "    word_freq[key_word] = word_freq[key_word] / sum_appear\n",
    "\"\"\"\n",
    "\n",
    "word_freq_sorted = sorted(word_freq.items(), key=lambda x:-x[1])\n",
    "print(word_freq_sorted[:10])"
   ]
  },
  {
   "cell_type": "markdown",
   "metadata": {},
   "source": [
    "### 37. 頻度上位10語\n",
    "出現頻度が高い10語とその出現頻度をグラフ（例えば棒グラフなど）で表示せよ．\n",
    "\n"
   ]
  },
  {
   "cell_type": "code",
   "execution_count": 11,
   "metadata": {},
   "outputs": [
    {
     "data": {
      "image/png": "[encoded data removed]",
      "text/plain": [
       "<Figure size 432x288 with 1 Axes>"
      ]
     },
     "metadata": {
      "needs_background": "light"
     },
     "output_type": "display_data"
    }
   ],
   "source": [
    "import numpy as np\n",
    "import matplotlib.pyplot as plt\n",
    "\n",
    "x = np.arange(10)\n",
    "y = [word_freq_sorted[i][1] for i in range(10)]\n",
    "\n",
    "plt.bar(x, y)\n",
    "plt.show()"
   ]
  },
  {
   "cell_type": "markdown",
   "metadata": {},
   "source": [
    "### 38. ヒストグラム\n",
    "単語の出現頻度のヒストグラム（横軸に出現頻度，縦軸に出現頻度をとる単語の種類数を棒グラフで表したもの）を描け．\n"
   ]
  },
  {
   "cell_type": "code",
   "execution_count": 12,
   "metadata": {},
   "outputs": [
    {
     "data": {
      "image/png": "[encoded data removed]",
      "text/plain": [
       "<Figure size 432x288 with 1 Axes>"
      ]
     },
     "metadata": {
      "needs_background": "light"
     },
     "output_type": "display_data"
    }
   ],
   "source": [
    "x = [wfs[1] for wfs in word_freq_sorted]\n",
    "plt.hist(x)\n",
    "plt.show()"
   ]
  },
  {
   "cell_type": "markdown",
   "metadata": {},
   "source": [
    "### 39. Zipfの法則\n",
    "単語の出現頻度順位を横軸，その出現頻度を縦軸として，両対数グラフをプロットせよ．"
   ]
  },
  {
   "cell_type": "code",
   "execution_count": 13,
   "metadata": {},
   "outputs": [
    {
     "data": {
      "image/png": "[encoded data removed]",
      "text/plain": [
       "<Figure size 432x288 with 1 Axes>"
      ]
     },
     "metadata": {
      "needs_background": "light"
     },
     "output_type": "display_data"
    }
   ],
   "source": [
    "x = np.log10(np.arange(len(word_freq_sorted)) + 1)\n",
    "y = np.log10(np.array([wfs[1] for wfs in word_freq_sorted]))\n",
    "\n",
    "plt.plot(x, y)\n",
    "plt.show()"
   ]
  },
  {
   "cell_type": "code",
   "execution_count": null,
   "metadata": {},
   "outputs": [],
   "source": []
  }
 ],
 "metadata": {
  "kernelspec": {
   "display_name": "Python 3",
   "language": "python",
   "name": "python3"
  },
  "language_info": {
   "codemirror_mode": {
    "name": "ipython",
    "version": 3
   },
   "file_extension": ".py",
   "mimetype": "text/x-python",
   "name": "python",
   "nbconvert_exporter": "python",
   "pygments_lexer": "ipython3",
   "version": "3.7.3"
  }
 },
 "nbformat": 4,
 "nbformat_minor": 2
}
