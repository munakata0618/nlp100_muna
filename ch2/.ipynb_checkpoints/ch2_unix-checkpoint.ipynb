{
 "cells": [
  {
   "cell_type": "markdown",
   "metadata": {},
   "source": [
    "hightemp.txtは，日本の最高気温の記録を「都道府県」「地点」「℃」「日」のタブ区切り形式で格納したファイルである．以下の処理を行うプログラムを作成し，hightemp.txtを入力ファイルとして実行せよ．さらに，同様の処理をUNIXコマンドでも実行し，プログラムの実行結果を確認せよ．"
   ]
  },
  {
   "cell_type": "markdown",
   "metadata": {},
   "source": [
    "### 行数のカウント\n",
    "行数をカウントせよ．確認にはwcコマンドを用いよ．"
   ]
  },
  {
   "cell_type": "code",
   "execution_count": 1,
   "metadata": {},
   "outputs": [
    {
     "name": "stdout",
     "output_type": "stream",
     "text": [
      "24\n"
     ]
    }
   ],
   "source": [
    "hight_name = \"hightemp.txt\"\n",
    "\n",
    "with open(hight_name, \"r\") as r:\n",
    "    cnt = 0\n",
    "    for _ in r:\n",
    "        cnt += 1\n",
    "    print(cnt)"
   ]
  },
  {
   "cell_type": "markdown",
   "metadata": {},
   "source": [
    "### タブをスペースに置換\n",
    "タブ1文字につきスペース1文字に置換せよ．確認にはsedコマンド，trコマンド，もしくはexpandコマンドを用いよ．\n"
   ]
  },
  {
   "cell_type": "code",
   "execution_count": 4,
   "metadata": {},
   "outputs": [
    {
     "name": "stdout",
     "output_type": "stream",
     "text": [
      "changed\n"
     ]
    }
   ],
   "source": [
    "hight_space_name = \"hightemp_space.txt\"\n",
    "with open(hight_space_name, \"w\") as w:\n",
    "    with open(hight_name, \"r\") as r:\n",
    "        for line in r:\n",
    "            changed_line = line.replace(\"\\t\", \" \")\n",
    "            w.write(changed_line)\n",
    "print(\"changed\")"
   ]
  },
  {
   "cell_type": "markdown",
   "metadata": {},
   "source": [
    "### 1列目をcol1.txtに，2列目をcol2.txtに保存\n",
    "各行の1列目だけを抜き出したものをcol1.txtに，2列目だけを抜き出したものをcol2.txtとしてファイルに保存せよ．確認にはcutコマンドを用いよ."
   ]
  },
  {
   "cell_type": "code",
   "execution_count": 3,
   "metadata": {},
   "outputs": [
    {
     "name": "stdout",
     "output_type": "stream",
     "text": [
      "cut\n"
     ]
    }
   ],
   "source": [
    "with open(\"col1.txt\", \"w\") as w1:\n",
    "    with open(\"col2.txt\", \"w\") as w2:\n",
    "        with open(hight_name, \"r\") as r:\n",
    "            for line in r:\n",
    "                city_data = line.split(\"\\t\")\n",
    "                w1.write(city_data[0] + \"\\n\")\n",
    "                w2.write(city_data[1] + \"\\n\")\n",
    "print(\"cut\")"
   ]
  },
  {
   "cell_type": "markdown",
   "metadata": {},
   "source": [
    "### col1.txtとcol2.txtをマージ\n",
    "12で作ったcol1.txtとcol2.txtを結合し，元のファイルの1列目と2列目をタブ区切りで並べたテキストファイルを作成せよ．確認にはpasteコマンドを用いよ．"
   ]
  },
  {
   "cell_type": "code",
   "execution_count": 5,
   "metadata": {},
   "outputs": [
    {
     "name": "stdout",
     "output_type": "stream",
     "text": [
      "pasted\n"
     ]
    }
   ],
   "source": [
    "with open(\"paste12.txt\", \"w\") as w:\n",
    "    with open(\"col1.txt\", \"r\") as r1:\n",
    "        with open(\"col2.txt\", \"r\") as r2:\n",
    "            for line1, line2 in zip(r1, r2):\n",
    "                w.write(line1.replace(\"\\n\", \"\") + \"\\t\" + line2)\n",
    "print(\"pasted\")"
   ]
  },
  {
   "cell_type": "markdown",
   "metadata": {},
   "source": [
    "### 先頭からN行を出力\n",
    "自然数Nをコマンドライン引数などの手段で受け取り，入力のうち先頭のN行だけを表示せよ．確認にはheadコマンドを用いよ．"
   ]
  },
  {
   "cell_type": "code",
   "execution_count": 17,
   "metadata": {},
   "outputs": [
    {
     "name": "stdout",
     "output_type": "stream",
     "text": [
      "4\n",
      "高知県\t江川崎\t41\t2013-08-12\n",
      "\n",
      "埼玉県\t熊谷\t40.9\t2007-08-16\n",
      "\n",
      "岐阜県\t多治見\t40.9\t2007-08-16\n",
      "\n",
      "山形県\t山形\t40.8\t1933-07-25\n",
      "\n"
     ]
    }
   ],
   "source": [
    "N = int(input())\n",
    "\n",
    "with open(hight_name, \"r\") as r:\n",
    "    for i, line in enumerate(r):\n",
    "        print(line)\n",
    "        if i >= N - 1:\n",
    "            break"
   ]
  },
  {
   "cell_type": "markdown",
   "metadata": {},
   "source": [
    "### 末尾のN行を出力\n",
    "自然数Nをコマンドライン引数などの手段で受け取り，入力のうち末尾のN行だけを表示せよ．確認にはtailコマンドを用いよ．"
   ]
  },
  {
   "cell_type": "code",
   "execution_count": 19,
   "metadata": {},
   "outputs": [
    {
     "name": "stdout",
     "output_type": "stream",
     "text": [
      "5\n",
      "埼玉県\t鳩山\t39.9\t1997-07-05\n",
      "\n",
      "大阪府\t豊中\t39.9\t1994-08-08\n",
      "\n",
      "山梨県\t大月\t39.9\t1990-07-19\n",
      "\n",
      "山形県\t鶴岡\t39.9\t1978-08-03\n",
      "\n",
      "愛知県\t名古屋\t39.9\t1942-08-02\n",
      "\n"
     ]
    }
   ],
   "source": [
    "N = int(input())\n",
    "\n",
    "with open(hight_name, \"r\") as r:\n",
    "    for i, line in enumerate(r):\n",
    "        if i < 24 - N:\n",
    "            continue\n",
    "        print(line)"
   ]
  },
  {
   "cell_type": "markdown",
   "metadata": {},
   "source": [
    "### ファイルをN分割する\n",
    "\n",
    "自然数Nをコマンドライン引数などの手段で受け取り，入力のファイルを行単位でN分割せよ．同様の処理をsplitコマンドで実現せよ．"
   ]
  },
  {
   "cell_type": "code",
   "execution_count": 22,
   "metadata": {},
   "outputs": [
    {
     "name": "stdout",
     "output_type": "stream",
     "text": [
      "5\n",
      "round1\n",
      "高知県\t江川崎\t41\t2013-08-12\n",
      "\n",
      "埼玉県\t熊谷\t40.9\t2007-08-16\n",
      "\n",
      "岐阜県\t多治見\t40.9\t2007-08-16\n",
      "\n",
      "山形県\t山形\t40.8\t1933-07-25\n",
      "\n",
      "山梨県\t甲府\t40.7\t2013-08-10\n",
      "\n",
      "round2\n",
      "和歌山県\tかつらぎ\t40.6\t1994-08-08\n",
      "\n",
      "静岡県\t天竜\t40.6\t1994-08-04\n",
      "\n",
      "山梨県\t勝沼\t40.5\t2013-08-10\n",
      "\n",
      "埼玉県\t越谷\t40.4\t2007-08-16\n",
      "\n",
      "群馬県\t館林\t40.3\t2007-08-16\n",
      "\n",
      "round3\n",
      "群馬県\t上里見\t40.3\t1998-07-04\n",
      "\n",
      "愛知県\t愛西\t40.3\t1994-08-05\n",
      "\n",
      "千葉県\t牛久\t40.2\t2004-07-20\n",
      "\n",
      "静岡県\t佐久間\t40.2\t2001-07-24\n",
      "\n",
      "愛媛県\t宇和島\t40.2\t1927-07-22\n",
      "\n",
      "round4\n",
      "山形県\t酒田\t40.1\t1978-08-03\n",
      "\n",
      "岐阜県\t美濃\t40\t2007-08-16\n",
      "\n",
      "群馬県\t前橋\t40\t2001-07-24\n",
      "\n",
      "千葉県\t茂原\t39.9\t2013-08-11\n",
      "\n",
      "埼玉県\t鳩山\t39.9\t1997-07-05\n",
      "\n",
      "round5\n",
      "大阪府\t豊中\t39.9\t1994-08-08\n",
      "\n",
      "山梨県\t大月\t39.9\t1990-07-19\n",
      "\n",
      "山形県\t鶴岡\t39.9\t1978-08-03\n",
      "\n",
      "愛知県\t名古屋\t39.9\t1942-08-02\n",
      "\n"
     ]
    }
   ],
   "source": [
    "N = int(input())\n",
    "\n",
    "with open(hight_name, \"r\") as r:\n",
    "    for i, line in enumerate(r):\n",
    "        if i % N == 0:\n",
    "            print(\"round{}\".format(i // N + 1))\n",
    "        print(line)"
   ]
  },
  {
   "cell_type": "markdown",
   "metadata": {},
   "source": [
    "### １列目の文字列の異なり\n",
    "1列目の文字列の種類（異なる文字列の集合）を求めよ．確認にはsort, uniqコマンドを用いよ．"
   ]
  },
  {
   "cell_type": "code",
   "execution_count": 24,
   "metadata": {},
   "outputs": [
    {
     "name": "stdout",
     "output_type": "stream",
     "text": [
      "{'千葉県', '高知県', '群馬県', '大阪府', '埼玉県', '愛知県', '和歌山県', '山梨県', '静岡県', '山形県', '愛媛県', '岐阜県'}\n"
     ]
    }
   ],
   "source": [
    "with open(hight_name, \"r\") as r:\n",
    "    city_kind = set()\n",
    "    for line in r:\n",
    "        city_kind.add(line.split()[0])\n",
    "print(city_kind)"
   ]
  },
  {
   "cell_type": "markdown",
   "metadata": {},
   "source": [
    "### 各行を3コラム目の数値の降順にソート\n",
    "各行を3コラム目の数値の逆順で整列せよ（注意: 各行の内容は変更せずに並び替えよ）．確認にはsortコマンドを用いよ（この問題はコマンドで実行した時の結果と合わなくてもよい）．"
   ]
  },
  {
   "cell_type": "code",
   "execution_count": 40,
   "metadata": {},
   "outputs": [
    {
     "name": "stdout",
     "output_type": "stream",
     "text": [
      "千葉県\t茂原\t39.9\t2013-08-11\n",
      "\n",
      "埼玉県\t鳩山\t39.9\t1997-07-05\n",
      "\n",
      "大阪府\t豊中\t39.9\t1994-08-08\n",
      "\n",
      "山梨県\t大月\t39.9\t1990-07-19\n",
      "\n",
      "山形県\t鶴岡\t39.9\t1978-08-03\n",
      "\n",
      "愛知県\t名古屋\t39.9\t1942-08-02\n",
      "\n",
      "岐阜県\t美濃\t40\t2007-08-16\n",
      "\n",
      "群馬県\t前橋\t40\t2001-07-24\n",
      "\n",
      "山形県\t酒田\t40.1\t1978-08-03\n",
      "\n",
      "千葉県\t牛久\t40.2\t2004-07-20\n",
      "\n",
      "静岡県\t佐久間\t40.2\t2001-07-24\n",
      "\n",
      "愛媛県\t宇和島\t40.2\t1927-07-22\n",
      "\n",
      "群馬県\t館林\t40.3\t2007-08-16\n",
      "\n",
      "群馬県\t上里見\t40.3\t1998-07-04\n",
      "\n",
      "愛知県\t愛西\t40.3\t1994-08-05\n",
      "\n",
      "埼玉県\t越谷\t40.4\t2007-08-16\n",
      "\n",
      "山梨県\t勝沼\t40.5\t2013-08-10\n",
      "\n",
      "和歌山県\tかつらぎ\t40.6\t1994-08-08\n",
      "\n",
      "静岡県\t天竜\t40.6\t1994-08-04\n",
      "\n",
      "山梨県\t甲府\t40.7\t2013-08-10\n",
      "\n",
      "山形県\t山形\t40.8\t1933-07-25\n",
      "\n",
      "埼玉県\t熊谷\t40.9\t2007-08-16\n",
      "\n",
      "岐阜県\t多治見\t40.9\t2007-08-16\n",
      "\n",
      "高知県\t江川崎\t41\t2013-08-12\n",
      "\n"
     ]
    }
   ],
   "source": [
    "all_data_list = []\n",
    "with open(hight_name, \"r\") as r:\n",
    "    for line in r:\n",
    "        all_data_list.append(line.split(\"\\t\"))\n",
    "\n",
    "sorted_data_list = sorted(all_data_list, key=lambda x:float(x[2]))\n",
    "\n",
    "for line_list in sorted_data_list:\n",
    "    print(\"{0}\\t{1}\\t{2}\\t{3}\".format(*line_list))"
   ]
  },
  {
   "cell_type": "markdown",
   "metadata": {},
   "source": [
    "### 各行の1コラム目の文字列の出現頻度を求め，出現頻度の高い順に並べる\n",
    "各行の1列目の文字列の出現頻度を求め，その高い順に並べて表示せよ．確認にはcut, uniq, sortコマンドを用いよ．"
   ]
  },
  {
   "cell_type": "code",
   "execution_count": 54,
   "metadata": {},
   "outputs": [
    {
     "name": "stdout",
     "output_type": "stream",
     "text": [
      "埼玉県\t熊谷\t40.9\t2007-08-16\n",
      "埼玉県\t越谷\t40.4\t2007-08-16\n",
      "埼玉県\t鳩山\t39.9\t1997-07-05\n",
      "山形県\t山形\t40.8\t1933-07-25\n",
      "山形県\t酒田\t40.1\t1978-08-03\n",
      "山形県\t鶴岡\t39.9\t1978-08-03\n",
      "山梨県\t甲府\t40.7\t2013-08-10\n",
      "山梨県\t勝沼\t40.5\t2013-08-10\n",
      "山梨県\t大月\t39.9\t1990-07-19\n",
      "群馬県\t館林\t40.3\t2007-08-16\n",
      "群馬県\t上里見\t40.3\t1998-07-04\n",
      "群馬県\t前橋\t40\t2001-07-24\n",
      "岐阜県\t多治見\t40.9\t2007-08-16\n",
      "岐阜県\t美濃\t40\t2007-08-16\n",
      "静岡県\t天竜\t40.6\t1994-08-04\n",
      "静岡県\t佐久間\t40.2\t2001-07-24\n",
      "愛知県\t愛西\t40.3\t1994-08-05\n",
      "愛知県\t名古屋\t39.9\t1942-08-02\n",
      "千葉県\t牛久\t40.2\t2004-07-20\n",
      "千葉県\t茂原\t39.9\t2013-08-11\n",
      "高知県\t江川崎\t41\t2013-08-12\n",
      "和歌山県\tかつらぎ\t40.6\t1994-08-08\n",
      "愛媛県\t宇和島\t40.2\t1927-07-22\n",
      "大阪府\t豊中\t39.9\t1994-08-08\n"
     ]
    }
   ],
   "source": [
    "dict_city = {}\n",
    "with open(hight_name, \"r\") as r:\n",
    "        for line in r:\n",
    "            line_list = line.split()\n",
    "            if line_list[0] not in dict_city.keys():\n",
    "                dict_city[line_list[0]] = [line_list]\n",
    "            else:\n",
    "                dict_city[line_list[0]].append(line_list)\n",
    "sorted_data_freq = sorted(dict_city.items(), key = lambda x:-len(x[1]))\n",
    "\n",
    "for data_freq in sorted_data_freq:\n",
    "    for data in data_freq[1]:\n",
    "        print(\"{0}\\t{1}\\t{2}\\t{3}\".format(*data))"
   ]
  },
  {
   "cell_type": "code",
   "execution_count": null,
   "metadata": {},
   "outputs": [],
   "source": []
  }
 ],
 "metadata": {
  "kernelspec": {
   "display_name": "Python 3",
   "language": "python",
   "name": "python3"
  },
  "language_info": {
   "codemirror_mode": {
    "name": "ipython",
    "version": 3
   },
   "file_extension": ".py",
   "mimetype": "text/x-python",
   "name": "python",
   "nbconvert_exporter": "python",
   "pygments_lexer": "ipython3",
   "version": "3.7.3"
  }
 },
 "nbformat": 4,
 "nbformat_minor": 2
}
