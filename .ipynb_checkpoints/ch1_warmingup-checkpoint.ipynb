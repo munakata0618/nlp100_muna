{
 "cells": [
  {
   "cell_type": "markdown",
   "metadata": {},
   "source": [
    "### 文字列の逆順\n",
    "文字列\"stressed\"の文字を逆に（末尾から先頭に向かって）並べた文字列を得よ"
   ]
  },
  {
   "cell_type": "code",
   "execution_count": 1,
   "metadata": {},
   "outputs": [
    {
     "name": "stdout",
     "output_type": "stream",
     "text": [
      "desserts\n"
     ]
    }
   ],
   "source": [
    "print(\"stressed\"[::-1])"
   ]
  },
  {
   "cell_type": "markdown",
   "metadata": {},
   "source": [
    "### 「パタトクカシーー」\n",
    "「パタトクカシーー」という文字列の1,3,5,7文字目を取り出して連結した文字列を得よ．"
   ]
  },
  {
   "cell_type": "code",
   "execution_count": 2,
   "metadata": {},
   "outputs": [
    {
     "name": "stdout",
     "output_type": "stream",
     "text": [
      "パトカー\n"
     ]
    }
   ],
   "source": [
    "print(\"パタトクカシーー\"[::2])"
   ]
  },
  {
   "cell_type": "markdown",
   "metadata": {},
   "source": [
    "### 「パトカー」＋「タクシー」＝「パタトクカシーー」\n",
    "「パトカー」＋「タクシー」の文字を先頭から交互に連結して文字列「パタトクカシーー」を得よ．"
   ]
  },
  {
   "cell_type": "code",
   "execution_count": 4,
   "metadata": {},
   "outputs": [
    {
     "name": "stdout",
     "output_type": "stream",
     "text": [
      "パタトクカシーー\n"
     ]
    }
   ],
   "source": [
    "pat = \"パトカー\"\n",
    "tax = \"タクシー\"\n",
    "massage = \"\"\n",
    "for p, t in zip(pat, tax):\n",
    "    massage += p + t\n",
    "print(massage)"
   ]
  },
  {
   "cell_type": "markdown",
   "metadata": {},
   "source": [
    "### 円周率\n",
    "\"Now I need a drink, alcoholic of course, after the heavy lectures involving quantum mechanics.\"という文を単語に分解し，各単語の（アルファベットの）文字数を先頭から出現順に並べたリストを作成せよ．"
   ]
  },
  {
   "cell_type": "code",
   "execution_count": 16,
   "metadata": {},
   "outputs": [
    {
     "name": "stdout",
     "output_type": "stream",
     "text": [
      "[3, 1, 4, 1, 5, 9, 2, 6, 5, 3, 5, 8, 9, 7, 9]\n"
     ]
    }
   ],
   "source": [
    "import re\n",
    "\n",
    "sentence = \"Now I need a drink, alcoholic of course, after the heavy lectures involving quantum mechanics.\"\n",
    "words = re.sub(r\"[,.]\", \"\", sentence).split()\n",
    "nums_letters = [len(word) for word in words]\n",
    "print(nums_letters)"
   ]
  },
  {
   "cell_type": "markdown",
   "metadata": {},
   "source": [
    "### 元素記号\n",
    "\"Hi He Lied Because Boron Could Not Oxidize Fluorine. New Nations Might Also Sign Peace Security Clause. Arthur King Can.\"という文を単語に分解し，1, 5, 6, 7, 8, 9, 15, 16, 19番目の単語は先頭の1文字，それ以外の単語は先頭に2文字を取り出し，取り出した文字列から単語の位置（先頭から何番目の単語か）への連想配列（辞書型もしくはマップ型）を作成せよ．"
   ]
  },
  {
   "cell_type": "code",
   "execution_count": 21,
   "metadata": {},
   "outputs": [
    {
     "name": "stdout",
     "output_type": "stream",
     "text": [
      "{'H': 1, 'He': 2, 'Li': 3, 'Be': 4, 'B': 5, 'C': 6, 'N': 7, 'O': 8, 'F': 9, 'Ne': 10, 'Na': 11, 'Mi': 12, 'Al': 13, 'Si': 14, 'P': 15, 'S': 16, 'Cl': 17, 'Ar': 18, 'K': 19, 'Ca': 20}\n"
     ]
    }
   ],
   "source": [
    "sentence = \"Hi He Lied Because Boron Could Not Oxidize Fluorine. New Nations Might Also Sign Peace Security Clause. Arthur King Can.\"\n",
    "words = re.sub(r\"[,.]\", \"\", sentence).split()\n",
    "only_head = [int(num) - 1 for num in \"1 5 6 7 8 9 15 16 19\".split()]\n",
    "dict_elements = {}\n",
    "for i, word in enumerate(words):\n",
    "    if i in only_head:\n",
    "        dict_elements[word[0]] = i + 1\n",
    "    else:\n",
    "        dict_elements[word[0:2]] = i + 1\n",
    "\n",
    "print(dict_elements)"
   ]
  },
  {
   "cell_type": "markdown",
   "metadata": {},
   "source": [
    "### n-gram\n",
    "与えられたシーケンス（文字列やリストなど）からn-gramを作る関数を作成せよ．この関数を用い，\"I am an NLPer\"という文から単語bi-gram，文字bi-gramを得よ．"
   ]
  },
  {
   "cell_type": "code",
   "execution_count": 73,
   "metadata": {},
   "outputs": [
    {
     "name": "stdout",
     "output_type": "stream",
     "text": [
      "word-2-gram\n",
      "[['I', 'am'], ['am', 'an'], ['an', 'NLPer']]\n",
      "letter-2-gram\n",
      "['I ', ' a', 'am', 'm ', ' a', 'an', 'n ', ' N', 'NL', 'LP', 'Pe', 'er']\n"
     ]
    }
   ],
   "source": [
    "def make_ngram(n, sentence):\n",
    "    return [sentence[m: m + n] for m in range(len(sentence) - n + 1)]\n",
    "\n",
    "print(\"word-2-gram\")\n",
    "print(make_ngram(2, \"I am an NLPer\".split()))\n",
    "\n",
    "print(\"letter-2-gram\")\n",
    "print(make_ngram(2, \"I am an NLPer\"))"
   ]
  },
  {
   "cell_type": "markdown",
   "metadata": {},
   "source": [
    "### 集合\n",
    "\"paraparaparadise\"と\"paragraph\"に含まれる文字bi-gramの集合を，それぞれ, XとYとして求め，XとYの和集合，積集合，差集合を求めよ．さらに，'se'というbi-gramがXおよびYに含まれるかどうかを調べよ．"
   ]
  },
  {
   "cell_type": "code",
   "execution_count": 74,
   "metadata": {},
   "outputs": [
    {
     "name": "stdout",
     "output_type": "stream",
     "text": [
      "{'ra', 'ar', 'ad', 'pa', 'is', 'ap', 'se', 'di'} {'ag', 'ra', 'ar', 'pa', 'ap', 'gr', 'ph'}\n",
      "和集合\n",
      "{'ag', 'ra', 'ar', 'ad', 'ph', 'pa', 'gr', 'is', 'ap', 'se', 'di'}\n",
      "積集合\n",
      "{'ap', 'ar', 'pa', 'ra'}\n",
      "差集合\n",
      "{'di', 'ad', 'se', 'is'}\n",
      "'se'がXに含まれるか\n",
      "True\n",
      "'se'がYに含まれるか\n",
      "False\n"
     ]
    }
   ],
   "source": [
    "X = set(make_ngram(2, \"paraparaparadise\"))\n",
    "Y = set(make_ngram(2, \"paragraph\"))\n",
    "\n",
    "print(X, Y)\n",
    "print(\"和集合\")\n",
    "print(X.union(Y))\n",
    "print(\"積集合\")\n",
    "print(X.intersection(Y))\n",
    "print(\"差集合\")\n",
    "print(X.difference(Y))\n",
    "print(\"'se'がXに含まれるか\")\n",
    "print(\"se\" in X)\n",
    "print(\"'se'がYに含まれるか\")\n",
    "print(\"se\" in Y)"
   ]
  },
  {
   "cell_type": "markdown",
   "metadata": {},
   "source": [
    "### テンプレートによる文生成\n",
    "引数x, y, zを受け取り「x時のyはz」という文字列を返す関数を実装せよ．さらに，x=12, y=\"気温\", z=22.4として，実行結果を確認せよ．"
   ]
  },
  {
   "cell_type": "code",
   "execution_count": 29,
   "metadata": {},
   "outputs": [
    {
     "name": "stdout",
     "output_type": "stream",
     "text": [
      "12時の気温は22.4\n"
     ]
    }
   ],
   "source": [
    "def template_massage(x, y, z):\n",
    "    return(\"{0}時の{1}は{2}\".format(str(x), str(y), str(z)))\n",
    "\n",
    "print(template_massage(12, \"気温\", 22.4))"
   ]
  },
  {
   "cell_type": "markdown",
   "metadata": {},
   "source": [
    "### 暗号文\n",
    "与えられた文字列の各文字を，以下の仕様で変換する関数cipherを実装せよ．\n",
    "\n",
    "- 英小文字ならば(219 - 文字コード)の文字に置換\n",
    "- その他の文字はそのまま出力\n",
    "\n",
    "この関数を用い，英語のメッセージを暗号化・復号化せよ．"
   ]
  },
  {
   "cell_type": "code",
   "execution_count": 85,
   "metadata": {},
   "outputs": [
    {
     "name": "stdout",
     "output_type": "stream",
     "text": [
      "zyxwv (l_l), svool.\n"
     ]
    }
   ],
   "source": [
    "def cipher(sentence):\n",
    "    code_sentence = \"\"\n",
    "    for s in sentence:\n",
    "        if ord(s) <= 122 and ord(s) >= 97:\n",
    "            code = 219 - ord(s)\n",
    "        else:\n",
    "            code = ord(s)\n",
    "        code_sentence += chr(code)\n",
    "    return code_sentence\n",
    "\n",
    "print(cipher(\"abcde (o_o), hello.\"))"
   ]
  },
  {
   "cell_type": "markdown",
   "metadata": {},
   "source": [
    "### Typoglycemia\n",
    "スペースで区切られた単語列に対して，各単語の先頭と末尾の文字は残し，それ以外の文字の順序をランダムに並び替えるプログラムを作成せよ．ただし，長さが４以下の単語は並び替えないこととする．適当な英語の文（例えば\"I couldn't believe that I could actually understand what I was reading : the phenomenal power of the human mind .\"）を与え，その実行結果を確認せよ．"
   ]
  },
  {
   "cell_type": "code",
   "execution_count": 67,
   "metadata": {
    "scrolled": false
   },
   "outputs": [
    {
     "name": "stdout",
     "output_type": "stream",
     "text": [
      "['I', 'reading', 'phenomenal', 'believe', ':', 'what', \"couldn't\", 'of', 'mind', 'that', 'the', 'I', 'the', 'could', 'was', 'I', 'human', 'power', 'understand', 'actually', '.']\n"
     ]
    }
   ],
   "source": [
    "import random\n",
    "\n",
    "def body_random(words):\n",
    "    length = len(words)\n",
    "    head = words[0]\n",
    "    tail = words[length-1]\n",
    "    body = words[1:length-1]\n",
    "    random.shuffle(body)\n",
    "    return([head] + body + [tail])\n",
    "\n",
    "sentence = \"I couldn't believe that I could actually understand what I was reading : the phenomenal power of the human mind .\"\n",
    "words = sentence.split()\n",
    "\n",
    "print(body_random(words))"
   ]
  }
 ],
 "metadata": {
  "kernelspec": {
   "display_name": "Python 3",
   "language": "python",
   "name": "python3"
  },
  "language_info": {
   "codemirror_mode": {
    "name": "ipython",
    "version": 3
   },
   "file_extension": ".py",
   "mimetype": "text/x-python",
   "name": "python",
   "nbconvert_exporter": "python",
   "pygments_lexer": "ipython3",
   "version": "3.6.7"
  }
 },
 "nbformat": 4,
 "nbformat_minor": 2
}
